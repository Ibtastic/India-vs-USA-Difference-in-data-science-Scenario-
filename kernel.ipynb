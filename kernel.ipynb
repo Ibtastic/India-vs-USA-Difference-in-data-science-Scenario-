{
  "cells": [
    {
      "metadata": {
        "_uuid": "22df791ef40836e1a24edf522198d1bbbc8b71d0"
      },
      "cell_type": "markdown",
      "source": "Ever since I've been interested in Data Science , I've thought of the differences in this field in India and USA. There have been certain norms regarding the differences that have been set during the years, what remains to be seen is whether the survey complies with those norms or contradicts them. "
    },
    {
      "metadata": {
        "_uuid": "8f2839f25d086af736a60e9eeb907d3b93b6e0e5",
        "_cell_guid": "b1076dfc-b9ad-4769-8c92-a6c4dae69d19",
        "trusted": true,
        "_kg_hide-input": true,
        "_kg_hide-output": false
      },
      "cell_type": "code",
      "source": "import numpy as np # linear algebra\nimport pandas as pd # data processing, CSV file I/O (e.g. pd.read_csv)\nimport os\nimport matplotlib.pyplot as plt\nimport seaborn as sns\n%matplotlib inline\nfrom plotly.offline import download_plotlyjs, init_notebook_mode, plot, iplot\nimport plotly as py\nimport plotly.graph_objs as go\n\nimport warnings\nwarnings.filterwarnings(\"ignore\")\ninit_notebook_mode(connected=True)\npd.set_option('display.max_columns', None)\nprint(os.listdir(\"../input\"))\npd.set_option('display.max_columns', None)",
      "execution_count": null,
      "outputs": []
    },
    {
      "metadata": {
        "trusted": true,
        "_uuid": "fc84df7acc83ff901b9e727ec17a12d80477d472",
        "_kg_hide-input": true
      },
      "cell_type": "code",
      "source": "df=pd.read_csv('../input/multipleChoiceResponses.csv')\ndf=df.drop(df.index[0])",
      "execution_count": null,
      "outputs": []
    },
    {
      "metadata": {
        "trusted": true,
        "_uuid": "d2c43a398e3d70a61b26cd483a4d7654ebc47ead",
        "_kg_hide-input": true
      },
      "cell_type": "code",
      "source": "c= pd.value_counts(df.Q3)\nd = pd.DataFrame(data=c)\nd.columns=['count']\nd=d.iloc[:9,:].sort_values('count',ascending=True)\nd['count'] = pd.to_numeric(d['count'], errors='coerce')\n\ndata=[go.Bar(\n            x=d[\"count\"],\n            y=d.index,\n             marker=dict(\n             color=['#8e7bbb','#8e7bbb','#8e7bbb','#8e7bbb','#8e7bbb','#8e7bbb','#8e7bbb','#142270','#8e7bbb'],\n             line=dict(\n            color=['#8e7bbb','#8e7bbb','#8e7bbb','#8e7bbb','#8e7bbb','#8e7bbb','#8e7bbb','#142270','#8e7bbb'],\n            width=1),\n                        ),\n            orientation='h' )]\nlayout = go.Layout(\n    height=500,\n    autosize=True,\n    title=' Countrywise contribution in the survey',\n    hovermode='closest',\n    xaxis=dict(title='', ticklen=5, zeroline=False, gridwidth=2, domain=[0.2, 1]),\n    yaxis=dict(title='', ticklen=5, gridwidth=10),\n    \n)\n\nfig = go.Figure(data=data,layout=layout)\npy.offline.iplot(fig, filename='horizontal-bar')\n",
      "execution_count": null,
      "outputs": []
    },
    {
      "metadata": {
        "_cell_guid": "79c7e3d0-c299-4dcb-8224-4455121ee9b0",
        "collapsed": true,
        "_uuid": "d629ff2d2480ee46fbb7e2d37f6b5fab8052498a",
        "trusted": false
      },
      "cell_type": "markdown",
      "source": "As it appears, India has the second highest reponse after America.\n\nNow Let's compare the preferences of Indians and Americans . "
    },
    {
      "metadata": {
        "_kg_hide-input": true,
        "trusted": true,
        "_uuid": "3e2e99ed801679be237e078097a84183097bbcb7"
      },
      "cell_type": "code",
      "source": "df['Q3']=df['Q3'].replace(['United States of America'], 'USA')\nindia=df[df.Q3==\"India\"]\nusa=df[df.Q3==\"USA\"]\nindia = india[~pd.isnull(india['Q35_Part_1'])]\ncount_dict = {\n    'Self-taught' : (india['Q35_Part_1'].astype(float)>0).sum(),\n    'Online courses (Coursera, Udemy, edX, etc.)' : (india['Q35_Part_2'].astype(float)>0).sum(),\n    'Work' : (india['Q35_Part_3'].astype(float)>0).sum(),\n    'University' : (india['Q35_Part_4'].astype(float)>0).sum(),\n    'Kaggle competitions' : (india['Q35_Part_5'].astype(float)>0).sum(),\n    'Other' : (india['Q35_Part_6'].astype(float)>0).sum()\n}\n\ncnt1 = pd.Series(count_dict)\ncnt1=pd.DataFrame(data=cnt1)\ncnt1.columns=['count']\n\nusa = usa[~pd.isnull(usa['Q35_Part_1'])]\ncount_dict2 = {\n    'Self-taught' : (usa['Q35_Part_1'].astype(float)>0).sum(),\n    'Online courses (Coursera, Udemy, edX, etc.)' : (usa['Q35_Part_2'].astype(float)>0).sum(),\n    'Work' : (usa['Q35_Part_3'].astype(float)>0).sum(),\n    'University' : (usa['Q35_Part_4'].astype(float)>0).sum(),\n    'Kaggle competitions' : (usa['Q35_Part_5'].astype(float)>0).sum(),\n    'Other' : (usa['Q35_Part_6'].astype(float)>0).sum()\n}\n\ncnt2 = pd.Series(count_dict2)\ncnt2=pd.DataFrame(data=cnt2)\ncnt2.columns=['count']",
      "execution_count": null,
      "outputs": []
    },
    {
      "metadata": {
        "_kg_hide-input": true,
        "trusted": true,
        "_uuid": "80317528d956b9107d3f3e734d90cbfd141285ed"
      },
      "cell_type": "code",
      "source": "trace1 = go.Bar(\n    x=cnt1.index,\n    y=cnt1['count'],\n    name='India',\n    marker=dict(\n        color='#84de6a'\n    )\n)\ntrace2 = go.Bar(\n    x=cnt2.index,\n    y=cnt2['count'],\n    name='USA',\n    marker=dict(\n        color='#142270'\n    )\n)\ndata = [trace1, trace2]\nlayout = go.Layout(\n    title='ML/DS education preference in India and USA ',\n    xaxis=dict(\n        title='',\n        titlefont=dict(\n            size=16,\n            color='rgb(107, 107, 107)'\n        ),\n        tickfont=dict(\n            size=14,\n            color='rgb(107, 107, 107)'\n        )\n    ),\n    yaxis=dict(\n        title='number of respondents',\n        titlefont=dict(\n            size=16,\n            color='rgb(107, 107, 107)'\n        ),\n        tickfont=dict(\n            size=14,\n            color='rgb(107, 107, 107)'\n        )\n    ),\n    legend=dict(\n         x=1.0,\n        y=1.0,\n        bgcolor='rgba(255, 255, 255, 0)',\n        bordercolor='rgba(255, 255, 255, 0)'\n    ),\n    barmode='group',\n    bargap=0.15,\n    bargroupgap=0.1\n)\n\nfig = go.Figure(data=data, layout=layout)\npy.offline.iplot(fig, filename='style-bar')",
      "execution_count": null,
      "outputs": []
    },
    {
      "metadata": {
        "_uuid": "70dce52e6c363668e3d7a7c888fa8321d3e8728f"
      },
      "cell_type": "markdown",
      "source": "* Going to universities is more popular in USA than India apparently due to the much higher number of Data Science courses offered in American universities. Only a few universities in India offer Data Science courses\n* Quite Strikingly, more Indians consider Kaggle Competitions as a way of learning than Americans\n* More Americans learn at work than Indians (due to greater number of data science jobs in America than India)\n* The \"Self-Taught\" and \"Online Course\" pattern could be considered the same beacuse more respondents are Americans."
    },
    {
      "metadata": {
        "_kg_hide-input": true,
        "trusted": true,
        "_uuid": "fdcbf7803d4a8715cb7fe5f5464436116cbc29ed"
      },
      "cell_type": "code",
      "source": "c= pd.value_counts(india.Q37)\nd = pd.DataFrame(data=c)\nd.columns=['count']\nd['count'] = pd.to_numeric(d['count'], errors='coerce')\ne= pd.value_counts(usa.Q37)\nf = pd.DataFrame(data=e)\nf.columns=['count']\nf['count'] = pd.to_numeric(f['count'], errors='coerce')\ntrace1 = go.Bar(\n    y=d.index,\n    x=d['count'],\n    name='India',\n    orientation = 'h',\n    marker = dict(\n        color = 'rgba(246, 78, 139, 0.6)',\n        line = dict(\n            color = 'rgba(246, 78, 139, 1.0)',\n            width = 3)\n    )\n)\ntrace2 = go.Bar(\n    y=f.index,\n    x=f['count'],\n    name='USA',\n    orientation = 'h',\n    marker = dict(\n        color = 'rgba(58, 71, 80, 0.6)',\n        line = dict(\n            color = 'rgba(58, 71, 80, 1.0)',\n            width = 3)\n    )\n)\n\ndata = [trace1, trace2]\nlayout = go.Layout(\n    barmode='stack',\n    title=\"MOOC preference \"\n)\n\nfig = go.Figure(data=data, layout=layout)\npy.offline.iplot(fig, filename='marker-h-bar')\n",
      "execution_count": null,
      "outputs": []
    },
    {
      "metadata": {
        "_uuid": "29009c999032b31cc80ba5aace8d4447e384a214"
      },
      "cell_type": "markdown",
      "source": "*  Undoubtedly **Coursera** is the most popular MOOC and is almost equally preferred among both the groups.\n*  **Datacamp** is less popular in America than India.\n*  **Udemy** and **Kaggle Learn ** are preferred  by Indians more . "
    },
    {
      "metadata": {
        "_uuid": "5da33ea88aa24e7d18486939d59a0a757eb460fe"
      },
      "cell_type": "markdown",
      "source": "##                                   **Independent Projects or Academic Achievements**"
    },
    {
      "metadata": {
        "_kg_hide-input": true,
        "trusted": true,
        "_uuid": "29071b4f8ea4cc75701a1f517d0ee2cb3e1719c3"
      },
      "cell_type": "code",
      "source": "india=df[df.Q3==\"India\"]\nusa=df[df.Q3==\"USA\"]\nc= pd.value_counts(india.Q40)\nd = pd.DataFrame(data=c)\nd.columns=['count']\nd['count'] = pd.to_numeric(d['count'], errors='coerce')\ne= pd.value_counts(usa.Q40)\nf = pd.DataFrame(data=e)\nf.columns=['count']\nf['count'] = pd.to_numeric(f['count'], errors='coerce')\n\ng=(d['count']/1613)*100\nh=(f['count']/2648)*100\n\nfrom matplotlib.gridspec import GridSpec\n\nlabels1=d.index\nfracs1= g.values\nlabels2=f.index\nfracs2=h.values\nthe_grid = GridSpec(2, 2)\nplt.figure(figsize=(10,10))\nplt.subplot(the_grid[0, 0], aspect=1)\nplt.title(\"India\")\n#plt.pie(fracs1, labels=labels1, autopct='%1.1f%%', shadow=False)\ncolors = ['yellowgreen', 'gold', 'lightskyblue', 'lightcoral','red','orange']\npatches, texts = plt.pie(fracs1, colors=colors, startangle=90)\nplt.legend(patches, labels1,loc='upper left',bbox_to_anchor=(2,1))\n\nplt.subplot(the_grid[0, 1], aspect=1)\nplt.title('USA')\ncolors = ['yellowgreen', 'gold', 'lightskyblue', 'lightcoral','red',\"orange\"]\npatches, texts = plt.pie(fracs2, colors=colors, startangle=90)\n#plt.legend(patches, labels2)\n#plt.pie(fracs2,  labels=labels2, autopct='%.0f%%', shadow=True)\nplt.show()\n",
      "execution_count": null,
      "outputs": []
    },
    {
      "metadata": {
        "_uuid": "fedcc88631a59dc4ce2e882dd385636422117cc0"
      },
      "cell_type": "markdown",
      "source": "* More Indians beleive that \"Independent projects are more important than academic acheivements\".\n* While more Americans belive that indpenedent projects are slightly more or equally important than academic achievements. "
    },
    {
      "metadata": {
        "_uuid": "d5a5b48c1bd9bc30ceb5fea829e00ab0b64e0659"
      },
      "cell_type": "markdown",
      "source": "## **MOOC or traditional Brick and Mortar (Online)**"
    },
    {
      "metadata": {
        "trusted": true,
        "_uuid": "0803b84a7ed93247809e84bb92a438df7a6f1922",
        "_kg_hide-input": true
      },
      "cell_type": "code",
      "source": "india=df[df.Q3==\"India\"]\nusa=df[df.Q3==\"USA\"]\nc= pd.value_counts(india.Q39_Part_1)\nd = pd.DataFrame(data=c)\nd.columns=['count']\nd['count'] = pd.to_numeric(d['count'], errors='coerce')\ne= pd.value_counts(usa.Q39_Part_1)\nf = pd.DataFrame(data=e)\nf.columns=['count']\nf['count'] = pd.to_numeric(f['count'], errors='coerce')\n\ng=(d['count']/2725)*100\nh=(f['count']/3349)*100\n\nfrom matplotlib.gridspec import GridSpec\n\nlabels1=d.index\nfracs1= g.values\nlabels2=f.index\nfracs2=h.values\nthe_grid = GridSpec(2, 2)\nplt.figure(figsize=(10,10))\nplt.subplot(the_grid[0, 0], aspect=1)\nplt.title(\"India\")\n\ncolors = ['yellowgreen', 'gold', 'lightskyblue', 'lightcoral','red','orange']\npatches, texts = plt.pie(fracs1, colors=colors, startangle=90)\nplt.legend(patches, labels1,loc='upper left',bbox_to_anchor=(3,1))\n\nplt.subplot(the_grid[0, 1], aspect=1)\nplt.title('USA')\ncolors = ['yellowgreen', 'gold', 'lightskyblue', 'lightcoral','red',\"orange\"]\npatches, texts = plt.pie(fracs2, colors=colors, startangle=90)\n\nplt.show()\n",
      "execution_count": null,
      "outputs": []
    },
    {
      "metadata": {
        "_uuid": "f6c21e7f58ed8ac5f0d0d6d54fcae97740e633ca"
      },
      "cell_type": "markdown",
      "source": "* More Americans seem to believe that the quality of traditional brick and mortar education is better than or equal to MOOC education.\n* More Indians believe that the quality of education provided by MOOCs is better than traditional brick and mortar courses(due to the less number of offline Data Science courses in India or their less exposure to it )."
    },
    {
      "metadata": {
        "trusted": true,
        "_uuid": "0c0820354c666847cee8616362996d5f1a32207a",
        "_kg_hide-input": true
      },
      "cell_type": "code",
      "source": "from plotly import tools\ndef get_trace(country_name):\n    df1=df.copy()\n    df1 = df1[df1[\"Q3\"]==country_name]  \n    \n    ys = [df1['Q34_Part_1'].values, \n      df1['Q34_Part_2'].values,\n      df1['Q34_Part_3'].values,\n       df1['Q34_Part_4'].values,\n      df1['Q34_Part_5'].values,\n      df1['Q34_Part_6'].values\n     ]\n    names=[\n           \"Gathering Data\",\n        \"Cleaning Data\",\n        \"Visualizing Data\",\n        \"Model Building \",\n        \"Production\",\n        \"Finding Insights\",\n        \"Other\"\n    ]\n    colors = [\"#3498db\", \"#95a5a6\", \"#e74c3c\", \"#34495e\",\"#df6a84\",\"#ad2543\",\"#223f08\"]\n\n    trace = []\n    for i in range(6):\n        trace.append ( \n            go.Box(\n                y=ys[i],\n                name=names[i],\n                marker = dict(\n                    color=colors[i],\n                )\n            )\n        )\n    return trace\n    \ntraces_list = []\ncountry_names = ['India',\"USA\"]\nfor country_name in country_names:\n    traces_list.append(get_trace(country_name))\n\n# Creating two subplots\nfig = tools.make_subplots(rows=1, cols=2, vertical_spacing=0.1, \n                          subplot_titles=country_names)\nfor ind, traces in enumerate(traces_list):\n    for trace in traces:\n        fig.append_trace(trace , int(np.floor(ind/2)+1), int((ind%2) + 1))\n\nfig['layout'].update(height=500, width=800, paper_bgcolor='rgb(249,249,249)', title=\" Time engaged in Various Tasks\", showlegend=False)\niplot(fig, filename='mldscountry')",
      "execution_count": null,
      "outputs": []
    },
    {
      "metadata": {
        "_uuid": "c49da79b15b573d6c91c0ae6a020648d490d9259"
      },
      "cell_type": "markdown",
      "source": "More Indians spend time in Model Building while more Americans spent time in Finding Insights in the data and communicating to the stakeholders. This difference could be attributed to the fact that the data science community in USA is more mature as compared to the Data Science Community in India."
    },
    {
      "metadata": {
        "trusted": true,
        "_uuid": "11eb72408c05839b7976b8b98b0472be75d1aeb2",
        "_kg_hide-input": true
      },
      "cell_type": "code",
      "source": "india=df[df.Q3==\"India\"]\nusa=df[df.Q3==\"USA\"]\nc= pd.value_counts(india.Q1)\nd = pd.DataFrame(data=c)\nd.columns=['count']\nd['count'] = pd.to_numeric(d['count'], errors='coerce')\ne= pd.value_counts(usa.Q1)\nf = pd.DataFrame(data=e)\nf.columns=['count']\nf['count'] = pd.to_numeric(f['count'], errors='coerce')\ntrace1 = go.Bar(\n    x=d.index,\n    y=d['count'],\n    name='India',\n    marker=dict(\n        color='rgb(55, 83, 109)'\n    )\n)\ntrace2 = go.Bar(\n    x=f.index,\n    y=f['count'],\n    name='USA',\n    marker=dict(\n        color='rgb(26, 118, 255)'\n    )\n)\ndata = [trace1, trace2]\nlayout = go.Layout(\n    title='Gender-wise Participation in the survey',\n    xaxis=dict(\n        title='Gender',\n        tickfont=dict(\n            size=14,\n            color='rgb(107, 107, 107)'\n           \n        )\n    ),\n    yaxis=dict(\n        title='Number of respondents',\n        titlefont=dict(\n            size=16,\n            color='rgb(107, 107, 107)'\n        ),\n        tickfont=dict(\n            size=14,\n            color='rgb(107, 107, 107)'\n        )\n    ),\n    legend=dict(\n         x=1.0,\n        y=1.0,\n        bgcolor='rgba(255, 255, 255, 0)',\n        bordercolor='rgba(255, 255, 255, 0)'\n    ),\n    barmode='group',\n    bargap=0.15,\n    bargroupgap=0.1\n)\n\nfig = go.Figure(data=data, layout=layout)\npy.offline.iplot(fig, filename='style-bar')",
      "execution_count": null,
      "outputs": []
    },
    {
      "metadata": {
        "_uuid": "81299b713ebb3e053e5f58c2258e1d63d0fb1f50"
      },
      "cell_type": "markdown",
      "source": "There are more Male Indian participants and more Female American Participants.\n\nNow, let's remove the respondents who have ***not disclosed their Annual Compensation*** and see if the graph remains the same . "
    },
    {
      "metadata": {
        "trusted": true,
        "_uuid": "3aeff4a9ca6a59847e381c6aaf92dd3d3687b93b",
        "_kg_hide-input": true
      },
      "cell_type": "code",
      "source": "df = df[~df.Q9.isnull()].copy()\nnot_disclosed = df[df.Q9 == 'I do not wish to disclose my approximate yearly compensation'].index\npersonal_data = df.drop(list(not_disclosed), axis=0)\npersonal_data['Q3']=personal_data['Q3'].replace(['United States of America'], 'USA')\n\nindia=personal_data[personal_data.Q3==\"India\"]\nusa=personal_data[personal_data.Q3==\"USA\"]\nc= pd.value_counts(india.Q1)\nd = pd.DataFrame(data=c)\nd.columns=['count']\nd['count'] = pd.to_numeric(d['count'], errors='coerce')\ne= pd.value_counts(usa.Q1)\nf = pd.DataFrame(data=e)\nf.columns=['count']\nf['count'] = pd.to_numeric(f['count'], errors='coerce')\n\ntrace1 = go.Bar(\n    x=d.index,\n    y=d['count'],\n    name='India',\n    marker=dict(\n        color='rgb(55, 83, 109)'\n    )\n)\ntrace2 = go.Bar(\n    x=f.index,\n    y=f['count'],\n    name='USA',\n    marker=dict(\n        color='rgb(26, 118, 255)'\n    )\n)\ndata = [trace1, trace2]\nlayout = go.Layout(\n    title='Gender-wise Participation diferrence in India and USA',\n    xaxis=dict(\n        tickfont=dict(\n            size=14,\n            color='rgb(107, 107, 107)'\n        )\n    ),\n    yaxis=dict(\n        title='',\n        titlefont=dict(\n            size=16,\n            color='rgb(107, 107, 107)'\n        ),\n        tickfont=dict(\n            size=14,\n            color='rgb(107, 107, 107)'\n        )\n    ),\n    legend=dict(\n         x=1.0,\n        y=1.0,\n        bgcolor='rgba(255, 255, 255, 0)',\n        bordercolor='rgba(255, 255, 255, 0)'\n    ),\n    barmode='group',\n    bargap=0.15,\n    bargroupgap=0.1\n)\n\nfig = go.Figure(data=data, layout=layout)\npy.offline.iplot(fig, filename='style-bar')",
      "execution_count": null,
      "outputs": []
    },
    {
      "metadata": {
        "_uuid": "815f7d49fd79068ceaed0cd6c388222ca66d2e79"
      },
      "cell_type": "markdown",
      "source": "Whoa! ***A lot of Indian Males haven't disclosed their annual compensation***. \n\nNow let's take a look at the compensation difference between the two countries."
    },
    {
      "metadata": {
        "trusted": true,
        "_uuid": "7082e235515fa7681a5329991847c64e14b874a9",
        "_kg_hide-input": true
      },
      "cell_type": "code",
      "source": "c= pd.value_counts(india.Q9)\nd = pd.DataFrame(data=c)\nd.columns=['count']\nd['count'] = pd.to_numeric(d['count'], errors='coerce')\ne= pd.value_counts(usa.Q9)\nf = pd.DataFrame(data=e)\nf.columns=['count']\nf['count'] = pd.to_numeric(f['count'], errors='coerce')\n\ntrace1 = go.Bar(\n    x=d.index,\n    y=d['count'],\n    name='India',\n    marker=dict(\n        color='#947665'\n    )\n)\ntrace2 = go.Bar(\n    x=f.index,\n    y=f['count'],\n    name='USA',\n    marker=dict(\n        color='#591b0c'\n    )\n)\ndata = [trace1, trace2]\nlayout = go.Layout(\n    title='Compensation difference',\n    xaxis=dict(\n        tickfont=dict(\n            size=14,\n            color='rgb(107, 107, 107)'\n        )\n    ),\n    yaxis=dict(\n        title='Average Yearly Compensation',\n        titlefont=dict(\n            size=16,\n            color='rgb(107, 107, 107)'\n        ),\n        tickfont=dict(\n            size=14,\n            color='rgb(107, 107, 107)'\n        )\n    ),\n    legend=dict(\n         x=1.0,\n        y=1.0,\n        bgcolor='rgba(255, 255, 255, 0)',\n        bordercolor='rgba(255, 255, 255, 0)'\n    ),\n    barmode='group',\n    bargap=0.15,\n    bargroupgap=0.1\n)\n\nfig = go.Figure(data=data, layout=layout)\npy.offline.iplot(fig, filename='style-bar')\n",
      "execution_count": null,
      "outputs": []
    },
    {
      "metadata": {
        "trusted": true,
        "_uuid": "f5ac7f48b4a04c15539de5d423e062503e66999b"
      },
      "cell_type": "markdown",
      "source": "* Most of the Indians are paid in the salary range 0-10, 000 while most of the Americans are paid in the range 100-125,000.\n*  The salary curve for Indians decreases exponentially as the salary range increases. \n\nNow we will calculate the Average Yearly Compensation and visualize the gender pay gap in both the countries."
    },
    {
      "metadata": {
        "trusted": true,
        "_uuid": "cdca102923c4534020c574a4b65df4b48f7d1d64",
        "_kg_hide-input": true
      },
      "cell_type": "code",
      "source": "from pandas.api.types import CategoricalDtype\n\n# transforming compensation into category type and ordening the values\ncateg = ['0-10,000', '10-20,000', '20-30,000', '30-40,000', '40-50,000',\n         '50-60,000', '60-70,000', '70-80,000', '80-90,000', '90-100,000',\n         '100-125,000', '125-150,000', '150-200,000', '200-250,000', '250-300,000',\n         '300-400,000', '400-500,000', '500,000+']\ncat_type = CategoricalDtype(categories=categ, ordered=True)\npersonal_data.Q9 = personal_data.Q9.astype(cat_type)\n\ncateg = ['18-21', '22-24', '25-29', '30-34', '35-39', '40-44', \n         '45-49', '50-54', '55-59', '60-69', '70-79', '80+']\ncat_type = CategoricalDtype(categories=categ, ordered=True)\npersonal_data.Q2 = personal_data.Q2.astype(cat_type)\n\n# transforming years of experience into category type and ordening the values\ncateg = ['0-1', '1-2', '2-3', '3-4', '4-5', '5-10',\n         '10-15', '15-20', '20-25', '25-30', '30+']\ncat_type = CategoricalDtype(categories=categ, ordered=True)\npersonal_data.Q8 = personal_data.Q8.astype(cat_type)\n\n# transforming education level into category type and ordening the values\ncateg = ['No formal education past high school', 'Some college/university study without earning a bachelor’s degree',\n         'Professional degree', 'Bachelor’s degree', 'Master’s degree', 'Doctoral degree', 'I prefer not to answer']\ncat_type = CategoricalDtype(categories=categ, ordered=True)\npersonal_data.Q4 = personal_data.Q4.astype(cat_type)",
      "execution_count": null,
      "outputs": []
    },
    {
      "metadata": {
        "trusted": true,
        "_uuid": "683a15a86e2a21aa2fe47c278f08087bd518f468",
        "_kg_hide-input": true
      },
      "cell_type": "code",
      "source": "compensation = personal_data.Q9.str.replace(',', '').str.replace('500000\\+', '500-500000').str.split('-')\npersonal_data['yearly_compensation_numerical'] = compensation.apply(lambda x: (int(x[0]) * 1000 + int(x[1]))/ 2)/1000 # it is calculated in thousand dollars\nindia=personal_data[personal_data.Q3==\"India\"]\nusa=personal_data[personal_data.Q3==\"USA\"]\ni=india.groupby(['Q1'], as_index=False)['yearly_compensation_numerical'].mean()\nu=usa.groupby(['Q1'], as_index=False)['yearly_compensation_numerical'].mean()\ni=i.iloc[0:2,:]\nu=u.iloc[0:2,:]\ntrace1 = go.Bar(\n    x=i['Q1'],\n    y=i['yearly_compensation_numerical'],\n    name='India',\n    marker=dict(\n        color='rgb(55, 83, 109)'\n    )\n)\ntrace2 = go.Bar(\n    x=u['Q1'],\n    y=u['yearly_compensation_numerical'],\n    name='USA',\n    marker=dict(\n        color='rgb(26, 118, 255)'\n    )\n)\ndata = [trace1, trace2]\nlayout = go.Layout(\n    title='Gender pay gap in India and USA',\n    xaxis=dict(\n        tickfont=dict(\n            size=14,\n            color='rgb(107, 107, 107)'\n        )\n    ),\n    yaxis=dict(\n        title='Average Yearly Compensation',\n        titlefont=dict(\n            size=16,\n            color='rgb(107, 107, 107)'\n        ),\n        tickfont=dict(\n            size=14,\n            color='rgb(107, 107, 107)'\n        )\n    ),\n     legend=dict(\n         x=1.0,\n        y=1.0,\n        bgcolor='rgba(255, 255, 255, 0)',\n        bordercolor='rgba(255, 255, 255, 0)'\n    ),\n    barmode='group',\n    bargap=0.15,\n    bargroupgap=0.1\n)\n\nfig = go.Figure(data=data, layout=layout)\npy.offline.iplot(fig, filename='style-bar')",
      "execution_count": null,
      "outputs": []
    },
    {
      "metadata": {
        "_uuid": "76b9dbda132e1f32663644fdbd5e805d69ed2fca"
      },
      "cell_type": "markdown",
      "source": "* American males are paid more than American females.\n* The graph shows that Indian Females are paid more than India Males which may be due to the fact that a lot of Indian males haven't disclosed their salaries.\n\nLet's see the Average Salary differences in both the countries for the same experience level."
    },
    {
      "metadata": {
        "trusted": true,
        "_uuid": "fe8e5a366e027cef8ac604e79334400f9fb060c7",
        "_kg_hide-input": true
      },
      "cell_type": "code",
      "source": "i2=india.groupby(['Q8'], as_index=False)['yearly_compensation_numerical'].mean()\nu2=usa.groupby(['Q8'], as_index=False)['yearly_compensation_numerical'].mean()\ntrace1 = go.Bar(\n    x=i2['Q8'],\n    y=i2['yearly_compensation_numerical'],\n    name='India',\n    marker=dict(\n        color='#b02520'\n    )\n)\ntrace2 = go.Bar(\n    x=u2['Q8'],\n    y=u2['yearly_compensation_numerical'],\n    name='USA',\n    marker=dict(\n        color='#281b72'\n    )\n)\ndata = [trace1, trace2]\nlayout = go.Layout(\n    title='Compensation Difference for the Same Experience level',\n    xaxis=dict(\n        title='Experience level in Years',\n        titlefont=dict(\n            size=16,\n            color='rgb(107, 107, 107)'\n        ),\n        tickfont=dict(\n            size=14,\n            color='rgb(107, 107, 107)'\n        )\n    ),\n    yaxis=dict(\n        title='Average Yearly Compensation',\n        titlefont=dict(\n            size=16,\n            color='rgb(107, 107, 107)'\n        ),\n        tickfont=dict(\n            size=14,\n            color='rgb(107, 107, 107)'\n        )\n    ),\n    legend=dict(\n         x=1.0,\n        y=1.0,\n        bgcolor='rgba(255, 255, 255, 0)',\n        bordercolor='rgba(255, 255, 255, 0)'\n    ),\n    barmode='group',\n    bargap=0.15,\n    bargroupgap=0.1\n)\n\nfig = go.Figure(data=data, layout=layout)\npy.offline.iplot(fig, filename='style-bar')",
      "execution_count": null,
      "outputs": []
    },
    {
      "metadata": {
        "_uuid": "8728bef3accc14da07dc29611cc5b32d9f273f9a"
      },
      "cell_type": "markdown",
      "source": "* As we can see there is a huge compensation difference in both the countries for the same experience level.\n* What is unsettling is **for India , how can the average salary decrease as the experience level increases** , like in the range 3-4 years and 15-20 years.\n\nThe huge compensation difference for both the countries could be attributed to the fact of difference in cost of living in both the countries. So let's remove that factor by normalizing the salary and then plotting."
    },
    {
      "metadata": {
        "trusted": true,
        "_uuid": "6a32c1a3a6bfbd6f87a655ceab478b5e4b293841",
        "_kg_hide-input": true
      },
      "cell_type": "code",
      "source": "# price index for India and USA is 78 and 178 respectively.\nindia['normalized_compensation'] = india.yearly_compensation_numerical / 78 * 10\nindia['normalized_compensation'] = india['normalized_compensation'].round() * 10\nusa['normalized_compensation'] = usa.yearly_compensation_numerical / 178 * 10\nusa['normalized_compensation'] = usa['normalized_compensation'].round() * 10\ni2=india.groupby(['Q8'], as_index=False)['normalized_compensation'].mean()\nu2=usa.groupby(['Q8'], as_index=False)['normalized_compensation'].mean()\ntrace1 = go.Bar(\n    x=i2['Q8'],\n    y=i2['normalized_compensation'],\n    name='India',\n    marker=dict(\n        color='#b02520'\n    )\n)\ntrace2 = go.Bar(\n    x=u2['Q8'],\n    y=u2['normalized_compensation'],\n    name='USA',\n    marker=dict(\n        color='#281b72'\n    )\n)\ndata = [trace1, trace2]\nlayout = go.Layout(\n    title='Average Normalized Salary as per Experience level',\n    xaxis=dict(\n        title='Experience level in Years',\n        titlefont=dict(\n            size=16,\n            color='rgb(107, 107, 107)'\n        ),\n        tickfont=dict(\n            size=14,\n            color='rgb(107, 107, 107)'\n        )\n    ),\n    yaxis=dict(\n        title='Average Normalized Yearly Compensation',\n        titlefont=dict(\n            size=16,\n            color='rgb(107, 107, 107)'\n        ),\n        tickfont=dict(\n            size=14,\n            color='rgb(107, 107, 107)'\n        )\n    ),\n    legend=dict(\n         x=1.0,\n        y=1.0,\n        bgcolor='rgba(255, 255, 255, 0)',\n        bordercolor='rgba(255, 255, 255, 0)'\n    ),\n    barmode='group',\n    bargap=0.15,\n    bargroupgap=0.1\n)\n\nfig = go.Figure(data=data, layout=layout)\npy.offline.iplot(fig, filename='style-bar')\n",
      "execution_count": null,
      "outputs": []
    },
    {
      "metadata": {
        "_uuid": "f596a2096feb0e999c11750c14a7120a009f117a"
      },
      "cell_type": "markdown",
      "source": "The difference in compensation reduces but it still remains."
    },
    {
      "metadata": {
        "trusted": true,
        "_uuid": "2881e801d597a653589474b56384a04dceb832b8",
        "_kg_hide-input": true
      },
      "cell_type": "code",
      "source": "i3=india.groupby(['Q6'], as_index=False)['yearly_compensation_numerical'].mean()\nu3=usa.groupby(['Q6'], as_index=False)['yearly_compensation_numerical'].mean()\ni3=i3.iloc[:10,:]\nu3=u3.iloc[:10,:]\ntrace1 = go.Bar(\n    x=i3['Q6'],\n    y=i3['yearly_compensation_numerical'],\n    name='India',\n    marker=dict(\n        color='#131d43'\n    )\n)\ntrace2 = go.Bar(\n    x=u3['Q6'],\n    y=u3['yearly_compensation_numerical'],\n    name='USA',\n    marker=dict(\n        color='#c073e7'\n    )\n)\ndata = [trace1, trace2]\nlayout = go.Layout(\n    title='Average Salaray as per the job title ',\n    xaxis=dict(\n        title='Role',\n        titlefont=dict(\n            size=16,\n            color='rgb(107, 107, 107)'\n        ),\n        tickfont=dict(\n            size=14,\n            color='rgb(107, 107, 107)'\n        )\n    ),\n    yaxis=dict(\n        title='Average Yearly Compensation',\n        titlefont=dict(\n            size=16,\n            color='rgb(107, 107, 107)'\n        ),\n        tickfont=dict(\n            size=14,\n            color='rgb(107, 107, 107)'\n        )\n    ),\n    legend=dict(\n         x=1.0,\n        y=1.0,\n        bgcolor='rgba(255, 255, 255, 0)',\n        bordercolor='rgba(255, 255, 255, 0)'\n    ),\n    barmode='group',\n    bargap=0.15,\n    bargroupgap=0.1\n)\n\nfig = go.Figure(data=data, layout=layout)\npy.offline.iplot(fig, filename='style-bar')",
      "execution_count": null,
      "outputs": []
    },
    {
      "metadata": {
        "_uuid": "5c942553f7674bf31105018e9702f640c9bc886b"
      },
      "cell_type": "markdown",
      "source": "* Another astonishing revealation - Data Journalist jobs pay the most in India , even more than the Chief Officer post in US"
    },
    {
      "metadata": {
        "_kg_hide-input": true,
        "trusted": true,
        "_uuid": "8e505d5c80de6e315bf75a05493a102399884a36"
      },
      "cell_type": "code",
      "source": "i3=india.groupby(['Q2'], as_index=False)['yearly_compensation_numerical'].mean()\nu3=usa.groupby(['Q2'], as_index=False)['yearly_compensation_numerical'].mean()\ni3=i3.iloc[:10,:]\nu3=u3.iloc[:10,:]\ntrace1 = go.Bar(\n    x=i3['Q2'],\n    y=i3['yearly_compensation_numerical'],\n    name='India',\n    marker=dict(\n        color='#224324'\n    )\n)\ntrace2 = go.Bar(\n    x=u3['Q2'],\n    y=u3['yearly_compensation_numerical'],\n    name='USA',\n    marker=dict(\n        color='#cfceed'\n    )\n)\ndata = [trace1, trace2]\nlayout = go.Layout(\n    title='Average Salaray as per the age group ',\n    xaxis=dict(\n        title='Age group',\n        titlefont=dict(\n            size=16,\n            color='rgb(107, 107, 107)'\n        ),\n        tickfont=dict(\n            size=14,\n            color='rgb(107, 107, 107)'\n        )\n    ),\n    yaxis=dict(\n        title='Average Yearly Compensation',\n        titlefont=dict(\n            size=16,\n            color='rgb(107, 107, 107)'\n        ),\n        tickfont=dict(\n            size=14,\n            color='rgb(107, 107, 107)'\n        )\n    ),\n    legend=dict(\n         x=1.0,\n        y=1.0,\n        bgcolor='rgba(255, 255, 255, 0)',\n        bordercolor='rgba(255, 255, 255, 0)'\n    ),\n    barmode='group',\n    bargap=0.15,\n    bargroupgap=0.1\n)\n\nfig = go.Figure(data=data, layout=layout)\npy.offline.iplot(fig, filename='style-bar')",
      "execution_count": null,
      "outputs": []
    },
    {
      "metadata": {
        "_uuid": "6117e87755275aeb19bae969478250ade60ab078"
      },
      "cell_type": "markdown",
      "source": "* In India the highest paying age group is 55-59 while in America it is  45-49 (over a decade's difference )\n* The salary for Americans increase with increase in age group while it's not the same for Indians ,40-44 age group sees a decrease in average yearly compensation and for the 60-69 age group too."
    },
    {
      "metadata": {
        "_kg_hide-input": true,
        "trusted": true,
        "_uuid": "10f7b8717d6f6c4962221f2db36c10600e14dd0b"
      },
      "cell_type": "code",
      "source": "i3=india.groupby(['Q24'], as_index=False)['yearly_compensation_numerical'].mean()\nu3=usa.groupby(['Q24'], as_index=False)['yearly_compensation_numerical'].mean()\ni3=i3.iloc[:9,:]\nu3=u3.iloc[:9,:]\ntrace1 = go.Bar(\n    x=i3['Q24'],\n    y=i3['yearly_compensation_numerical'],\n    name='India',\n    marker=dict(\n        color='#224324'\n    )\n)\ntrace2 = go.Bar(\n    x=u3['Q24'],\n    y=u3['yearly_compensation_numerical'],\n    name='USA',\n    marker=dict(\n        color='#cfceed'\n    )\n)\ndata = [trace1, trace2]\nlayout = go.Layout(\n    title='Average Salary as per the years spent writing codes to analyze data ',\n    xaxis=dict(\n        title='',\n        titlefont=dict(\n            size=16,\n            color='rgb(107, 107, 107)'\n        ),\n        tickfont=dict(\n            size=14,\n            color='rgb(107, 107, 107)'\n        )\n    ),\n    yaxis=dict(\n        title='Average Yearly Compensation',\n        titlefont=dict(\n            size=16,\n            color='rgb(107, 107, 107)'\n        ),\n        tickfont=dict(\n            size=14,\n            color='rgb(107, 107, 107)'\n        )\n    ),\n    legend=dict(\n         x=1.0,\n        y=1.0,\n        bgcolor='rgba(255, 255, 255, 0)',\n        bordercolor='rgba(255, 255, 255, 0)'\n    ),\n    barmode='group',\n    bargap=0.15,\n    bargroupgap=0.1\n)\n\nfig = go.Figure(data=data, layout=layout)\npy.offline.iplot(fig, filename='style-bar')",
      "execution_count": null,
      "outputs": []
    },
    {
      "metadata": {
        "_uuid": "aac544e184482c9a5d8a315f06aa7fbd6265a161"
      },
      "cell_type": "markdown",
      "source": "People with 40+ years of experience in writing code are paid the most in both the countries(as expected )"
    },
    {
      "metadata": {
        "_uuid": "2a238dcce92e3d8976084db2cd503968ba04e1cb"
      },
      "cell_type": "markdown",
      "source": "# Conclusion\nTo sum up we can say that Data Science is a mature field in USA while it's still in the developing phase in India.\nMost of the above differences can be explained by this fact. "
    }
  ],
  "metadata": {
    "kernelspec": {
      "display_name": "Python 3",
      "language": "python",
      "name": "python3"
    },
    "language_info": {
      "name": "python",
      "version": "3.6.6",
      "mimetype": "text/x-python",
      "codemirror_mode": {
        "name": "ipython",
        "version": 3
      },
      "pygments_lexer": "ipython3",
      "nbconvert_exporter": "python",
      "file_extension": ".py"
    }
  },
  "nbformat": 4,
  "nbformat_minor": 1
}